{
 "cells": [
  {
   "cell_type": "code",
   "execution_count": null,
   "id": "09ec8457",
   "metadata": {},
   "outputs": [],
   "source": [
    "from sqlalchemy import create_engine, text, inspect, Integer, String, Float, Boolean, BigInteger, select, func, Column\n",
    "from sqlalchemy.orm import DeclarativeBase, Mapped, mapped_column, Session, sessionmaker, declarative_base\n",
    "import pandas as pd\n",
    "import os\n",
    "import sqlite3"
   ]
  },
  {
   "cell_type": "code",
   "execution_count": null,
   "id": "591f811e",
   "metadata": {},
   "outputs": [],
   "source": [
    "def load_credentials_from_sqlite(db_file=\"creds.db\"):\n",
    "    \"\"\"\n",
    "    Простая версия: загружает креды PostgreSQL из SQLite.\n",
    "    Ожидаемые колонки: user, pass, url, port\n",
    "    \"\"\"\n",
    "    conn = sqlite3.connect(db_file)\n",
    "    cursor = conn.cursor()\n",
    "\n",
    "    cursor.execute(\"SELECT user, pass, url, port FROM access LIMIT 1;\")\n",
    "    row = cursor.fetchone()\n",
    "    conn.close()\n",
    "\n",
    "    if not row:\n",
    "        raise Exception(\"❌ Не удалось прочитать данные из access!\")\n",
    "\n",
    "    creds = {\n",
    "        \"DB_USER\": row[0],\n",
    "        \"DB_PASSWORD\": row[1],\n",
    "        \"DB_URL\": row[2],\n",
    "        \"DB_PORT\": str(row[3]),\n",
    "        \"DB_ROOT_BASE\": \"homeworks\"  # имя базы задаём явно\n",
    "    }\n",
    "    print(\"✅ Учётные данные PostgreSQL успешно загружены из creds.db\")\n",
    "    return creds"
   ]
  }
 ],
 "metadata": {
  "kernelspec": {
   "display_name": "my_write_db_env",
   "language": "python",
   "name": "python3"
  },
  "language_info": {
   "codemirror_mode": {
    "name": "ipython",
    "version": 3
   },
   "file_extension": ".py",
   "mimetype": "text/x-python",
   "name": "python",
   "nbconvert_exporter": "python",
   "pygments_lexer": "ipython3",
   "version": "3.13.7"
  }
 },
 "nbformat": 4,
 "nbformat_minor": 5
}
