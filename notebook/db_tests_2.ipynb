{
 "cells": [
  {
   "cell_type": "code",
   "execution_count": 2,
   "id": "93a23ea6",
   "metadata": {},
   "outputs": [],
   "source": [
    "from sqlalchemy import create_engine, text, inspect, Integer, String, Float, Boolean, BigInteger, select, func, Column\n",
    "from sqlalchemy.orm import DeclarativeBase, Mapped, mapped_column, Session, sessionmaker, declarative_base\n",
    "import pandas as pd\n",
    "import os\n"
   ]
  },
  {
   "cell_type": "code",
   "execution_count": 3,
   "id": "31b14daa",
   "metadata": {},
   "outputs": [],
   "source": [
    "Base = declarative_base()\n",
    "\n",
    "class User(Base):\n",
    "    __tablename__ = \"test_users\"\n",
    "\n",
    "    id = Column(Integer, primary_key=True)\n",
    "    name = Column(String)\n",
    "    age = Column(Integer)\n",
    "\n",
    "class Customer(Base):\n",
    "    __tablename__ = \"test_customers\"\n",
    "\n",
    "    id = Column(Integer, primary_key=True)\n",
    "    name = Column(String)"
   ]
  },
  {
   "cell_type": "code",
   "execution_count": 4,
   "id": "28e9f189",
   "metadata": {},
   "outputs": [],
   "source": [
    "engine = create_engine(\"sqlite:///users.db\")"
   ]
  },
  {
   "cell_type": "code",
   "execution_count": 5,
   "id": "50b80f9d",
   "metadata": {},
   "outputs": [
    {
     "data": {
      "text/plain": [
       "Engine(sqlite:///users.db)"
      ]
     },
     "execution_count": 5,
     "metadata": {},
     "output_type": "execute_result"
    }
   ],
   "source": [
    "Base.metadata.create_all(engine)\n",
    "\n",
    "engine"
   ]
  },
  {
   "cell_type": "code",
   "execution_count": null,
   "id": "6af125e2",
   "metadata": {},
   "outputs": [
    {
     "data": {
      "text/plain": [
       "<sqlalchemy.orm.session.Session at 0x115ec3cb0>"
      ]
     },
     "execution_count": 5,
     "metadata": {},
     "output_type": "execute_result"
    }
   ],
   "source": [
    "session = Session(bind=engine)\n",
    "session"
   ]
  },
  {
   "cell_type": "code",
   "execution_count": null,
   "id": "b26d26f9",
   "metadata": {},
   "outputs": [
    {
     "data": {
      "text/plain": [
       "[(1, 'Viktor', 30), (2, 'Jane', 40), (3, 'John', 60)]"
      ]
     },
     "execution_count": 6,
     "metadata": {},
     "output_type": "execute_result"
    }
   ],
   "source": [
    "with session as s:\n",
    "    result = s.execute(text(\"SELECT * FROM test_users LIMIT 10\")).fetchall()\n",
    "result"
   ]
  },
  {
   "cell_type": "code",
   "execution_count": null,
   "id": "01ea9a89",
   "metadata": {},
   "outputs": [
    {
     "data": {
      "text/plain": [
       "<sqlalchemy.orm.session.Session at 0x115f00320>"
      ]
     },
     "execution_count": 7,
     "metadata": {},
     "output_type": "execute_result"
    }
   ],
   "source": [
    "Ses = sessionmaker(engine)\n",
    "session = Ses()\n",
    "\n",
    "session"
   ]
  },
  {
   "cell_type": "code",
   "execution_count": null,
   "id": "980cf5f2",
   "metadata": {},
   "outputs": [],
   "source": [
    "session.add(User(name=\"John\", age=60))\n",
    "session.add(Customer(name=\"Jack\"))\n",
    "\n",
    "session.commit()"
   ]
  },
  {
   "cell_type": "code",
   "execution_count": null,
   "id": "31f45f16",
   "metadata": {},
   "outputs": [
    {
     "data": {
      "text/plain": [
       "{'Viktor': 30, 'Jane': 40}"
      ]
     },
     "execution_count": 9,
     "metadata": {},
     "output_type": "execute_result"
    }
   ],
   "source": [
    "users = (session\n",
    "         .query(User)\n",
    "         .filter(User.age < 55)\n",
    "         .all()\n",
    "         )\n",
    "\n",
    "{user.name: user.age for user in users}"
   ]
  },
  {
   "cell_type": "code",
   "execution_count": null,
   "id": "ca341068",
   "metadata": {},
   "outputs": [],
   "source": [
    "session.close()"
   ]
  }
 ],
 "metadata": {
  "kernelspec": {
   "display_name": "my_write_db_env",
   "language": "python",
   "name": "python3"
  },
  "language_info": {
   "codemirror_mode": {
    "name": "ipython",
    "version": 3
   },
   "file_extension": ".py",
   "mimetype": "text/x-python",
   "name": "python",
   "nbconvert_exporter": "python",
   "pygments_lexer": "ipython3",
   "version": "3.13.7"
  }
 },
 "nbformat": 4,
 "nbformat_minor": 5
}
